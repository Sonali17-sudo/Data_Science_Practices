{
 "cells": [
  {
   "cell_type": "markdown",
   "id": "fcb93899-a312-4677-944b-3d6721db58b3",
   "metadata": {},
   "source": [
    "# Name:- Sonali Ganesh Magar\n",
    "# Class:- IF5K\n",
    "# Task:- Homework1"
   ]
  },
  {
   "cell_type": "markdown",
   "id": "b523bcd0-2e3a-447a-9132-01d1486f5a28",
   "metadata": {},
   "source": [
    "# Bitwise Operator"
   ]
  },
  {
   "cell_type": "code",
   "execution_count": 2,
   "id": "84161299-04de-4f6f-9654-317d76c34856",
   "metadata": {},
   "outputs": [],
   "source": [
    "a=10\n",
    "b=4"
   ]
  },
  {
   "cell_type": "code",
   "execution_count": 3,
   "id": "e60ac9fd-9070-4a07-a723-2eaa24bc5551",
   "metadata": {},
   "outputs": [
    {
     "name": "stdout",
     "output_type": "stream",
     "text": [
      "0\n"
     ]
    }
   ],
   "source": [
    "print(a & b)   # and"
   ]
  },
  {
   "cell_type": "code",
   "execution_count": 4,
   "id": "8df5770a-aa5a-4fea-baaf-5d1fcc2d8c4f",
   "metadata": {},
   "outputs": [
    {
     "name": "stdout",
     "output_type": "stream",
     "text": [
      "14\n"
     ]
    }
   ],
   "source": [
    "print(a | b)   # or"
   ]
  },
  {
   "cell_type": "code",
   "execution_count": 5,
   "id": "ad509d86-ae6c-449a-abc9-57aa727c0c07",
   "metadata": {},
   "outputs": [
    {
     "name": "stdout",
     "output_type": "stream",
     "text": [
      "14\n"
     ]
    }
   ],
   "source": [
    "print(a ^ b)   # xor"
   ]
  },
  {
   "cell_type": "code",
   "execution_count": 6,
   "id": "2d0ba582-c63f-47e3-bccb-4e51f6c3fe3d",
   "metadata": {},
   "outputs": [
    {
     "name": "stdout",
     "output_type": "stream",
     "text": [
      "-11\n"
     ]
    }
   ],
   "source": [
    "print(~a)      # not"
   ]
  },
  {
   "cell_type": "code",
   "execution_count": 7,
   "id": "a53114de-9151-4a9d-8b01-2494a6636bdb",
   "metadata": {},
   "outputs": [
    {
     "name": "stdout",
     "output_type": "stream",
     "text": [
      "40\n"
     ]
    }
   ],
   "source": [
    "print(a << 2)  # left shift"
   ]
  },
  {
   "cell_type": "code",
   "execution_count": 8,
   "id": "6b8c1b7d-5bab-4909-ac87-41bf41c30d75",
   "metadata": {},
   "outputs": [
    {
     "name": "stdout",
     "output_type": "stream",
     "text": [
      "2\n"
     ]
    }
   ],
   "source": [
    "print(a >> 2)  # right shift"
   ]
  },
  {
   "cell_type": "markdown",
   "id": "30e1e9c5-1bf8-47d4-a4d6-5c6ede4e6fad",
   "metadata": {},
   "source": [
    " # Assignment Operators "
   ]
  },
  {
   "cell_type": "code",
   "execution_count": 13,
   "id": "17040ae9-6f8d-4007-b3d7-5b72e7feacec",
   "metadata": {},
   "outputs": [],
   "source": [
    "a=5\t# assign"
   ]
  },
  {
   "cell_type": "code",
   "execution_count": 14,
   "id": "728fda0a-457f-4299-868f-ec6395dda4c7",
   "metadata": {},
   "outputs": [
    {
     "name": "stdout",
     "output_type": "stream",
     "text": [
      "8\n"
     ]
    }
   ],
   "source": [
    "a += 3  # add and assign\n",
    "print(a)"
   ]
  },
  {
   "cell_type": "code",
   "execution_count": 15,
   "id": "5fca1034-67b5-4a54-a2aa-1a6956008183",
   "metadata": {},
   "outputs": [
    {
     "name": "stdout",
     "output_type": "stream",
     "text": [
      "5\n"
     ]
    }
   ],
   "source": [
    "a -= 3 # subtract and assign\n",
    "print(a)"
   ]
  },
  {
   "cell_type": "code",
   "execution_count": 16,
   "id": "9d303150-3f3f-485e-a9d5-358d59f578e1",
   "metadata": {},
   "outputs": [
    {
     "name": "stdout",
     "output_type": "stream",
     "text": [
      "15\n"
     ]
    }
   ],
   "source": [
    "a *= 3 # multiply and assign\n",
    "print(a)"
   ]
  },
  {
   "cell_type": "code",
   "execution_count": 17,
   "id": "9f547957-444a-412d-b400-05eaff4f02b0",
   "metadata": {},
   "outputs": [],
   "source": [
    "a /= 3 # divide and assign\t"
   ]
  },
  {
   "cell_type": "code",
   "execution_count": 18,
   "id": "c2c22003-f4cb-4ebf-9e63-5fc0fcd0e07e",
   "metadata": {},
   "outputs": [
    {
     "name": "stdout",
     "output_type": "stream",
     "text": [
      "5.0\n"
     ]
    }
   ],
   "source": [
    "print(a)"
   ]
  },
  {
   "cell_type": "code",
   "execution_count": 19,
   "id": "27d383d8-ee3a-4cc5-bd01-8af63ee9c949",
   "metadata": {},
   "outputs": [
    {
     "name": "stdout",
     "output_type": "stream",
     "text": [
      "2.0\n"
     ]
    }
   ],
   "source": [
    "a //= 2 # floor divide and assign\n",
    "print(a)"
   ]
  },
  {
   "cell_type": "code",
   "execution_count": 20,
   "id": "a9dc5480-8aee-4d95-a361-17aa16d02a4f",
   "metadata": {},
   "outputs": [
    {
     "name": "stdout",
     "output_type": "stream",
     "text": [
      "2.0\n"
     ]
    }
   ],
   "source": [
    "a %= 3 # modulus and assign\n",
    "print(a)"
   ]
  },
  {
   "cell_type": "code",
   "execution_count": null,
   "id": "255d6751-4bd9-471b-9625-3b6a742112a0",
   "metadata": {},
   "outputs": [],
   "source": []
  }
 ],
 "metadata": {
  "kernelspec": {
   "display_name": "Python 3 (ipykernel)",
   "language": "python",
   "name": "python3"
  },
  "language_info": {
   "codemirror_mode": {
    "name": "ipython",
    "version": 3
   },
   "file_extension": ".py",
   "mimetype": "text/x-python",
   "name": "python",
   "nbconvert_exporter": "python",
   "pygments_lexer": "ipython3",
   "version": "3.13.5"
  }
 },
 "nbformat": 4,
 "nbformat_minor": 5
}
