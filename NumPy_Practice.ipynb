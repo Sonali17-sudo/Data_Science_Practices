{
 "cells": [
  {
   "cell_type": "markdown",
   "id": "f36210e6-9476-4dd3-b562-da31919e8048",
   "metadata": {},
   "source": [
    "# Name:- Sonali Ganesh Magar\n",
    "# Class:- IF5K\n",
    "# Task:- Homework3"
   ]
  },
  {
   "cell_type": "code",
   "execution_count": 1,
   "id": "0ad74a79-53f9-412d-9f99-2a090e0be90c",
   "metadata": {},
   "outputs": [],
   "source": [
    "import numpy as np"
   ]
  },
  {
   "cell_type": "code",
   "execution_count": 3,
   "id": "887c052c-49fc-4516-b5a1-5a51bbf2d456",
   "metadata": {},
   "outputs": [],
   "source": [
    "arr=np.array([[1,2,3],[4,5,6],[7,8,9],[10,11,12]])"
   ]
  },
  {
   "cell_type": "code",
   "execution_count": 4,
   "id": "67a5dbc6-2a1f-4b5b-ac10-e40ae1914b17",
   "metadata": {},
   "outputs": [
    {
     "name": "stdout",
     "output_type": "stream",
     "text": [
      "[[ 1  2  3]\n",
      " [ 4  5  6]\n",
      " [ 7  8  9]\n",
      " [10 11 12]]\n"
     ]
    }
   ],
   "source": [
    "print(arr)"
   ]
  },
  {
   "cell_type": "code",
   "execution_count": 14,
   "id": "b5caac05-1bda-416b-acb6-9c7d0f8a9bc3",
   "metadata": {},
   "outputs": [
    {
     "data": {
      "text/plain": [
       "np.True_"
      ]
     },
     "execution_count": 14,
     "metadata": {},
     "output_type": "execute_result"
    }
   ],
   "source": [
    "#Returns True if all elements are True(non-zero)\n",
    "np.all(arr) \n",
    "np.any(arr) "
   ]
  },
  {
   "cell_type": "code",
   "execution_count": 11,
   "id": "09ec7db9-5261-4644-b2b3-d4a4b8831aa1",
   "metadata": {},
   "outputs": [
    {
     "data": {
      "text/plain": [
       "True"
      ]
     },
     "execution_count": 11,
     "metadata": {},
     "output_type": "execute_result"
    }
   ],
   "source": [
    "#Checks if two arrays are element-wise equal within a tolerance.\n",
    "a = np.array([1.0, 2.0, 3.0])\n",
    "b = np.array([1.0, 2.0000001, 3.0])\n",
    "np.allclose(a, b) "
   ]
  },
  {
   "cell_type": "code",
   "execution_count": 12,
   "id": "73b4b927-90e3-4b12-8ced-7134a31fb10e",
   "metadata": {},
   "outputs": [
    {
     "data": {
      "text/plain": [
       "array([10, 11, 12])"
      ]
     },
     "execution_count": 12,
     "metadata": {},
     "output_type": "execute_result"
    }
   ],
   "source": [
    "#Returns the maximum value.\n",
    "np.amax(arr, axis=0)"
   ]
  },
  {
   "cell_type": "code",
   "execution_count": 13,
   "id": "37272899-faff-4b21-bfd9-8f5fdf14b8b9",
   "metadata": {},
   "outputs": [
    {
     "data": {
      "text/plain": [
       "array([1, 2, 3])"
      ]
     },
     "execution_count": 13,
     "metadata": {},
     "output_type": "execute_result"
    }
   ],
   "source": [
    "#Returns the minimum value.\n",
    "np.amin(arr, axis=0)"
   ]
  },
  {
   "cell_type": "code",
   "execution_count": 15,
   "id": "33acbb88-d959-4ccc-9385-47622b26c4e8",
   "metadata": {},
   "outputs": [
    {
     "data": {
      "text/plain": [
       "array([[ 1,  2,  3],\n",
       "       [ 4,  5,  6],\n",
       "       [ 7,  8,  9],\n",
       "       [10, 11, 12],\n",
       "       [13, 14, 15]])"
      ]
     },
     "execution_count": 15,
     "metadata": {},
     "output_type": "execute_result"
    }
   ],
   "source": [
    "#Appends values to the end of the array.\n",
    "np.append(arr, [[13, 14, 15]], axis=0)"
   ]
  },
  {
   "cell_type": "code",
   "execution_count": 17,
   "id": "2c27b7d9-ee47-40c5-9c95-d67c957b7b35",
   "metadata": {},
   "outputs": [
    {
     "data": {
      "text/plain": [
       "np.int64(11)"
      ]
     },
     "execution_count": 17,
     "metadata": {},
     "output_type": "execute_result"
    }
   ],
   "source": [
    "#Returns the index of the maximum value.\n",
    "np.argmax(arr)"
   ]
  },
  {
   "cell_type": "code",
   "execution_count": 18,
   "id": "db90fb65-202b-4a63-b00c-b60ec2304f05",
   "metadata": {},
   "outputs": [
    {
     "data": {
      "text/plain": [
       "np.int64(0)"
      ]
     },
     "execution_count": 18,
     "metadata": {},
     "output_type": "execute_result"
    }
   ],
   "source": [
    "#Returns the index of the minimum value.\n",
    "np.argmin(arr)"
   ]
  },
  {
   "cell_type": "code",
   "execution_count": 19,
   "id": "486739ef-8431-4c5c-89ec-914ad6f33953",
   "metadata": {},
   "outputs": [
    {
     "data": {
      "text/plain": [
       "array([3, 1, 2, 0])"
      ]
     },
     "execution_count": 19,
     "metadata": {},
     "output_type": "execute_result"
    }
   ],
   "source": [
    "#Returns indices that would sort the array.\n",
    "a = np.array([9, 3, 7, 1])\n",
    "np.argsort(a) "
   ]
  },
  {
   "cell_type": "code",
   "execution_count": 21,
   "id": "9908d344-8f43-4016-a27c-b3b4947ca373",
   "metadata": {},
   "outputs": [
    {
     "data": {
      "text/plain": [
       "'[[ 1  2  3]\\n [ 4  5  6]\\n [ 7  8  9]\\n [10 11 12]]'"
      ]
     },
     "execution_count": 21,
     "metadata": {},
     "output_type": "execute_result"
    }
   ],
   "source": [
    "#Converts an array to a string representation.\n",
    "np.array2string(arr)"
   ]
  },
  {
   "cell_type": "code",
   "execution_count": 22,
   "id": "0f9f3e95-b49d-4086-a009-60c71756e79f",
   "metadata": {},
   "outputs": [
    {
     "data": {
      "text/plain": [
       "True"
      ]
     },
     "execution_count": 22,
     "metadata": {},
     "output_type": "execute_result"
    }
   ],
   "source": [
    "#Checks if two arrays have the same shape and elements.\n",
    "a = np.array([1, 2, 3])\n",
    "b = np.array([1, 2, 3])\n",
    "np.array_equal(a, b) "
   ]
  },
  {
   "cell_type": "code",
   "execution_count": null,
   "id": "ce9fde4d-87b5-450b-beeb-1a6b997aaa44",
   "metadata": {},
   "outputs": [],
   "source": []
  }
 ],
 "metadata": {
  "kernelspec": {
   "display_name": "Python 3 (ipykernel)",
   "language": "python",
   "name": "python3"
  },
  "language_info": {
   "codemirror_mode": {
    "name": "ipython",
    "version": 3
   },
   "file_extension": ".py",
   "mimetype": "text/x-python",
   "name": "python",
   "nbconvert_exporter": "python",
   "pygments_lexer": "ipython3",
   "version": "3.13.5"
  }
 },
 "nbformat": 4,
 "nbformat_minor": 5
}
