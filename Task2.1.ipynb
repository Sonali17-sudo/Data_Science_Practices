{
 "cells": [
  {
   "cell_type": "markdown",
   "id": "ce148e11-03a0-4a1e-abd7-6e21743a65a9",
   "metadata": {},
   "source": [
    "# Name:- Sonali Ganesh Magar\n",
    "# Class:- IF5K\n",
    "# Task:- Homework2"
   ]
  },
  {
   "cell_type": "markdown",
   "id": "ce50b479-d8aa-4185-9aa5-3a5b40ecaf1b",
   "metadata": {},
   "source": [
    "# Tuple Methods"
   ]
  },
  {
   "cell_type": "code",
   "execution_count": 1,
   "id": "82d6e393-d316-4c8f-bbb9-8cf10aadcb9c",
   "metadata": {},
   "outputs": [
    {
     "name": "stdout",
     "output_type": "stream",
     "text": [
      "3\n"
     ]
    }
   ],
   "source": [
    "#Returns how many times a value appears in the tuple.\n",
    "t = (1, 2, 3, 2, 4, 2)\n",
    "print(t.count(2))"
   ]
  },
  {
   "cell_type": "code",
   "execution_count": 2,
   "id": "d8956c80-8e20-4adc-8f66-c1b231da3453",
   "metadata": {},
   "outputs": [
    {
     "name": "stdout",
     "output_type": "stream",
     "text": [
      "1\n"
     ]
    }
   ],
   "source": [
    "#Returns the first index of a value.\n",
    "t = (10, 20, 30, 20)\n",
    "print(t.index(20))"
   ]
  },
  {
   "cell_type": "code",
   "execution_count": 3,
   "id": "5a43e72a-5e05-4a33-9180-70db4f3d0516",
   "metadata": {},
   "outputs": [
    {
     "name": "stdout",
     "output_type": "stream",
     "text": [
      "3\n"
     ]
    }
   ],
   "source": [
    "#Returns the number of elements.\n",
    "t = (5, 10, 15)\n",
    "print(len(t)) "
   ]
  },
  {
   "cell_type": "code",
   "execution_count": 4,
   "id": "899b96d3-c90a-4529-ad53-98fbdd3405e9",
   "metadata": {},
   "outputs": [
    {
     "name": "stdout",
     "output_type": "stream",
     "text": [
      "1\n",
      "9\n"
     ]
    }
   ],
   "source": [
    "#Gives the smallest and largest value.\n",
    "t = (4, 1, 9, 2)\n",
    "print(min(t)) \n",
    "print(max(t)) "
   ]
  },
  {
   "cell_type": "code",
   "execution_count": 5,
   "id": "fe992ead-8123-4536-a2ea-3b8ff1ce444e",
   "metadata": {},
   "outputs": [
    {
     "name": "stdout",
     "output_type": "stream",
     "text": [
      "6\n"
     ]
    }
   ],
   "source": [
    "#Adds up all numeric values in the tuple.\n",
    "t = (1, 2, 3)\n",
    "print(sum(t))"
   ]
  },
  {
   "cell_type": "code",
   "execution_count": 6,
   "id": "818f47f9-85f6-4bad-bbf3-55701f985e99",
   "metadata": {},
   "outputs": [
    {
     "name": "stdout",
     "output_type": "stream",
     "text": [
      "True\n"
     ]
    }
   ],
   "source": [
    "#Checks if a value exists in the tuple.\n",
    "t = ('apple', 'banana', 'cherry')\n",
    "print('banana' in t) "
   ]
  },
  {
   "cell_type": "code",
   "execution_count": null,
   "id": "61c55154-3d77-46d7-a6aa-5efdae5f720e",
   "metadata": {},
   "outputs": [],
   "source": []
  }
 ],
 "metadata": {
  "kernelspec": {
   "display_name": "Python 3 (ipykernel)",
   "language": "python",
   "name": "python3"
  },
  "language_info": {
   "codemirror_mode": {
    "name": "ipython",
    "version": 3
   },
   "file_extension": ".py",
   "mimetype": "text/x-python",
   "name": "python",
   "nbconvert_exporter": "python",
   "pygments_lexer": "ipython3",
   "version": "3.13.5"
  }
 },
 "nbformat": 4,
 "nbformat_minor": 5
}
