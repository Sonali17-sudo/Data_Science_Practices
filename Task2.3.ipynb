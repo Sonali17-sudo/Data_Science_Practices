{
 "cells": [
  {
   "cell_type": "markdown",
   "id": "e0b0216d-21d6-407f-ac65-a38155da1ca0",
   "metadata": {},
   "source": [
    "# Name:- Sonali Ganesh Magar\n",
    "# Class:- IF5K\n",
    "# Task:- Homework2"
   ]
  },
  {
   "cell_type": "markdown",
   "id": "bc0589c5",
   "metadata": {},
   "source": [
    "# List Methods"
   ]
  },
  {
   "cell_type": "code",
   "execution_count": 44,
   "id": "b6c6483c",
   "metadata": {},
   "outputs": [
    {
     "name": "stdout",
     "output_type": "stream",
     "text": [
      "[10, 20, 30, 40, 50]\n"
     ]
    }
   ],
   "source": [
    "# Creating a list\n",
    "my_list = [10, 20, 30, 40, 50]\n",
    "print(my_list)"
   ]
  },
  {
   "cell_type": "code",
   "execution_count": 45,
   "id": "4611288f",
   "metadata": {},
   "outputs": [
    {
     "name": "stdout",
     "output_type": "stream",
     "text": [
      "First element: 10\n",
      "Last element: 50\n"
     ]
    }
   ],
   "source": [
    "# Accessing elements\n",
    "print(\"First element:\", my_list[0])\n",
    "print(\"Last element:\", my_list[-1])"
   ]
  },
  {
   "cell_type": "code",
   "execution_count": 46,
   "id": "80eca66c",
   "metadata": {},
   "outputs": [
    {
     "name": "stdout",
     "output_type": "stream",
     "text": [
      "[10, 20, 99, 40, 50]\n"
     ]
    }
   ],
   "source": [
    "# Modifying elements\n",
    "my_list[2] = 99\n",
    "print(my_list)"
   ]
  },
  {
   "cell_type": "code",
   "execution_count": 47,
   "id": "0385300c",
   "metadata": {},
   "outputs": [
    {
     "name": "stdout",
     "output_type": "stream",
     "text": [
      "[10, 20, 25, 99, 40, 50, 60]\n"
     ]
    }
   ],
   "source": [
    "# Adding elements\n",
    "my_list.append(60)\n",
    "my_list.insert(2, 25)\n",
    "print(my_list)"
   ]
  },
  {
   "cell_type": "code",
   "execution_count": 48,
   "id": "3bc4d474",
   "metadata": {},
   "outputs": [
    {
     "name": "stdout",
     "output_type": "stream",
     "text": [
      "List after removals: [10, 20, 99, 40, 50, 60]\n",
      "60\n"
     ]
    }
   ],
   "source": [
    "my_list.remove(25)\n",
    "print(\"List after removals:\", my_list)\n",
    "print(my_list.pop())"
   ]
  },
  {
   "cell_type": "code",
   "execution_count": 49,
   "id": "53e67e78",
   "metadata": {},
   "outputs": [
    {
     "name": "stdout",
     "output_type": "stream",
     "text": [
      "[20, 99, 40]\n"
     ]
    }
   ],
   "source": [
    "# List slicing\n",
    "print(my_list[1:4])"
   ]
  },
  {
   "cell_type": "code",
   "execution_count": 50,
   "id": "b3ee586b",
   "metadata": {},
   "outputs": [
    {
     "name": "stdout",
     "output_type": "stream",
     "text": [
      "5\n"
     ]
    }
   ],
   "source": [
    "# length of list\n",
    "print(len(my_list))"
   ]
  },
  {
   "cell_type": "code",
   "execution_count": 51,
   "id": "413dca14-6b16-407a-989b-f6e9d0ea577a",
   "metadata": {},
   "outputs": [
    {
     "name": "stdout",
     "output_type": "stream",
     "text": [
      "99\n"
     ]
    }
   ],
   "source": [
    "# maximum value in list\n",
    "print(max(my_list))"
   ]
  },
  {
   "cell_type": "code",
   "execution_count": 52,
   "id": "e2f79432-c14c-49a8-96de-34583b572416",
   "metadata": {},
   "outputs": [
    {
     "name": "stdout",
     "output_type": "stream",
     "text": [
      "10\n"
     ]
    }
   ],
   "source": [
    "## maximum value in list\n",
    "print(min(my_list))"
   ]
  },
  {
   "cell_type": "code",
   "execution_count": 53,
   "id": "a0a75b51-6faa-45f6-afd3-1809e732813d",
   "metadata": {},
   "outputs": [
    {
     "name": "stdout",
     "output_type": "stream",
     "text": [
      "1\n"
     ]
    }
   ],
   "source": [
    "#prints how many time 10 has apperead in list\n",
    "print(my_list.count(10))"
   ]
  },
  {
   "cell_type": "code",
   "execution_count": 54,
   "id": "9b03adf2-9ac3-431d-b135-d04dbcbbecfe",
   "metadata": {},
   "outputs": [
    {
     "name": "stdout",
     "output_type": "stream",
     "text": [
      "2\n"
     ]
    }
   ],
   "source": [
    "print(my_list.index(99))"
   ]
  },
  {
   "cell_type": "code",
   "execution_count": 55,
   "id": "9d90fc9b",
   "metadata": {},
   "outputs": [
    {
     "name": "stdout",
     "output_type": "stream",
     "text": [
      "[10, 20, 40, 50, 99]\n",
      "[99, 50, 40, 20, 10]\n"
     ]
    }
   ],
   "source": [
    "# Sorting and reversing\n",
    "my_list.sort()         \n",
    "print(my_list)\n",
    "my_list.reverse()    \n",
    "print(my_list)"
   ]
  },
  {
   "cell_type": "code",
   "execution_count": null,
   "id": "4545e92d-da67-4bd2-b32d-1eb2b6550809",
   "metadata": {},
   "outputs": [],
   "source": []
  }
 ],
 "metadata": {
  "kernelspec": {
   "display_name": "Python 3 (ipykernel)",
   "language": "python",
   "name": "python3"
  },
  "language_info": {
   "codemirror_mode": {
    "name": "ipython",
    "version": 3
   },
   "file_extension": ".py",
   "mimetype": "text/x-python",
   "name": "python",
   "nbconvert_exporter": "python",
   "pygments_lexer": "ipython3",
   "version": "3.13.5"
  }
 },
 "nbformat": 4,
 "nbformat_minor": 5
}
