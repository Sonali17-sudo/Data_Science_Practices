{
 "cells": [
  {
   "cell_type": "markdown",
   "id": "5a225cf8-6023-4f4a-bd37-bd83f87bcc7a",
   "metadata": {},
   "source": [
    "# Name:- Sonali Ganesh Magar\n",
    "# Class:- IF5K\n",
    "# Task:- Homework1"
   ]
  },
  {
   "cell_type": "code",
   "execution_count": 1,
   "id": "e231ed35-3a26-47c4-93b1-7de7b485604b",
   "metadata": {},
   "outputs": [
    {
     "name": "stdout",
     "output_type": "stream",
     "text": [
      "Hello\n"
     ]
    }
   ],
   "source": [
    "#Removes leading and trailing whitespaces.\n",
    "s = \"  Hello  \"\n",
    "print(s.strip())"
   ]
  },
  {
   "cell_type": "code",
   "execution_count": 2,
   "id": "34d957e4-3352-4aa8-a870-71b0553fdba3",
   "metadata": {},
   "outputs": [
    {
     "name": "stdout",
     "output_type": "stream",
     "text": [
      "Hello world\n"
     ]
    }
   ],
   "source": [
    "#first letter capital\n",
    "s = \"hello world\"\n",
    "print(s.capitalize())"
   ]
  },
  {
   "cell_type": "code",
   "execution_count": 3,
   "id": "9fc7b99a-1ee5-47f1-9362-0fb80841f904",
   "metadata": {},
   "outputs": [
    {
     "name": "stdout",
     "output_type": "stream",
     "text": [
      "I like Python\n"
     ]
    }
   ],
   "source": [
    "#Replaces substring old with new\n",
    "s = \"I like Java\"\n",
    "print(s.replace(\"Java\",\"Python\")) "
   ]
  },
  {
   "cell_type": "code",
   "execution_count": 4,
   "id": "c866c28c-cedd-447e-b30e-d021f413207e",
   "metadata": {},
   "outputs": [
    {
     "name": "stdout",
     "output_type": "stream",
     "text": [
      "True\n",
      "True\n"
     ]
    }
   ],
   "source": [
    "#Checks whether string starts or ends with the specified value.\n",
    "s = \"hello.py\"\n",
    "print(s.startswith(\"hello\"))  \n",
    "print(s.endswith(\".py\"))      "
   ]
  },
  {
   "cell_type": "code",
   "execution_count": 5,
   "id": "7a4d76fe-ba65-4445-bdb3-d9fd6acac5e9",
   "metadata": {},
   "outputs": [
    {
     "name": "stdout",
     "output_type": "stream",
     "text": [
      "00042\n"
     ]
    }
   ],
   "source": [
    "#Pads the string with zeros from the left.\n",
    "s = \"42\"\n",
    "print(s.zfill(5)) "
   ]
  },
  {
   "cell_type": "code",
   "execution_count": 6,
   "id": "9f8c5b8a-6b77-40a7-a233-615482e602c5",
   "metadata": {},
   "outputs": [
    {
     "name": "stdout",
     "output_type": "stream",
     "text": [
      "1\n"
     ]
    }
   ],
   "source": [
    "#Returns index of the first occurrence of letter\n",
    "s = \"banana\"\n",
    "print(s.index(\"a\"))"
   ]
  },
  {
   "cell_type": "code",
   "execution_count": 7,
   "id": "5bcf9419-6e5e-48c0-8e23-0e00c7720bed",
   "metadata": {},
   "outputs": [
    {
     "name": "stdout",
     "output_type": "stream",
     "text": [
      "**python**\n"
     ]
    }
   ],
   "source": [
    "#Centers the string with optional padding character\n",
    "s = \"python\"\n",
    "print(s.center(10, '*'))"
   ]
  },
  {
   "cell_type": "code",
   "execution_count": 8,
   "id": "8e68e3fd-357b-43d6-b595-f3205f7858bf",
   "metadata": {},
   "outputs": [
    {
     "name": "stdout",
     "output_type": "stream",
     "text": [
      "a   b   c\n"
     ]
    }
   ],
   "source": [
    "# Replaces tabs \\t with spaces\n",
    "s = \"a\\tb\\tc\"\n",
    "print(s.expandtabs(4))"
   ]
  },
  {
   "cell_type": "code",
   "execution_count": 9,
   "id": "97d195f2-4fdd-4084-9149-3c1218ad5c34",
   "metadata": {},
   "outputs": [
    {
     "name": "stdout",
     "output_type": "stream",
     "text": [
      "True\n"
     ]
    }
   ],
   "source": [
    "#Checks if all characters are ASCII\n",
    "print(\"hello123\".isascii())"
   ]
  },
  {
   "cell_type": "code",
   "execution_count": 11,
   "id": "2ecafd52-d64e-4aae-a29b-8beb9d5527a2",
   "metadata": {},
   "outputs": [
    {
     "name": "stdout",
     "output_type": "stream",
     "text": [
      "True\n",
      "True\n"
     ]
    }
   ],
   "source": [
    "#Checks if all characters are decimal digits (0–9)\n",
    "print(\"123\".isdecimal())\n",
    "print(\"123\".isdigit())"
   ]
  },
  {
   "cell_type": "code",
   "execution_count": 13,
   "id": "ae11b9f4-b3b6-44fc-97e1-e53461297145",
   "metadata": {},
   "outputs": [
    {
     "name": "stdout",
     "output_type": "stream",
     "text": [
      "True\n",
      "True\n"
     ]
    }
   ],
   "source": [
    "#Checks if all characters are lowercase\n",
    "print(\"hello\".islower())\n",
    "#Checks if all letters are uppercase\n",
    "print(\"HELLO\".isupper())"
   ]
  },
  {
   "cell_type": "code",
   "execution_count": null,
   "id": "b9c6d290-d305-4baa-be7a-8b857ae08a79",
   "metadata": {},
   "outputs": [],
   "source": []
  }
 ],
 "metadata": {
  "kernelspec": {
   "display_name": "Python 3 (ipykernel)",
   "language": "python",
   "name": "python3"
  },
  "language_info": {
   "codemirror_mode": {
    "name": "ipython",
    "version": 3
   },
   "file_extension": ".py",
   "mimetype": "text/x-python",
   "name": "python",
   "nbconvert_exporter": "python",
   "pygments_lexer": "ipython3",
   "version": "3.13.5"
  }
 },
 "nbformat": 4,
 "nbformat_minor": 5
}
