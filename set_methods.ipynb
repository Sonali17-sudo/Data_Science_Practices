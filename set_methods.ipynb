{
 "cells": [
  {
   "cell_type": "markdown",
   "id": "008eb270-3fce-4308-b064-0d28020a6476",
   "metadata": {},
   "source": [
    "# Name:- Sonali Ganesh Magar\n",
    "# Class:- IF5K\n",
    "# Task:- Homework2"
   ]
  },
  {
   "cell_type": "markdown",
   "id": "e43161ae-f650-4f36-abf5-38101165261b",
   "metadata": {},
   "source": [
    "# Set Methods"
   ]
  },
  {
   "cell_type": "code",
   "execution_count": 1,
   "id": "eddd1d74-9bbb-4f70-83c3-c6c3721dbfe1",
   "metadata": {},
   "outputs": [
    {
     "name": "stdout",
     "output_type": "stream",
     "text": [
      "{1, 2, 3}\n"
     ]
    }
   ],
   "source": [
    "#Adds a single element.\n",
    "s = {1, 2}\n",
    "s.add(3)\n",
    "print(s)"
   ]
  },
  {
   "cell_type": "code",
   "execution_count": 6,
   "id": "6439f94a-868b-4eb6-bc70-5845d42eec0b",
   "metadata": {},
   "outputs": [
    {
     "name": "stdout",
     "output_type": "stream",
     "text": [
      "{1, 2, 3, 4, 5}\n"
     ]
    }
   ],
   "source": [
    "#Adds multiple elements from list, tuple, or another set.\n",
    "s = {1, 2}\n",
    "s.update([3, 4], {5})\n",
    "print(s)"
   ]
  },
  {
   "cell_type": "code",
   "execution_count": 7,
   "id": "571891aa-b850-4c89-8908-bd601402dcbd",
   "metadata": {},
   "outputs": [
    {
     "name": "stdout",
     "output_type": "stream",
     "text": [
      "{3}\n"
     ]
    }
   ],
   "source": [
    "#Removes a specific element.\n",
    "s = {1, 2, 3}\n",
    "s.remove(2)\n",
    "s.discard(1)\n",
    "print(s)"
   ]
  },
  {
   "cell_type": "code",
   "execution_count": 8,
   "id": "f65b371b-859a-4b97-b12d-2e3178ba4f35",
   "metadata": {},
   "outputs": [
    {
     "name": "stdout",
     "output_type": "stream",
     "text": [
      "{20, 30}\n"
     ]
    }
   ],
   "source": [
    "#Removes and returns a random element.\n",
    "s = {10, 20, 30}\n",
    "s.pop()\n",
    "print(s)"
   ]
  },
  {
   "cell_type": "code",
   "execution_count": 9,
   "id": "5afa809b-0892-417b-9772-499421a79ec7",
   "metadata": {},
   "outputs": [
    {
     "name": "stdout",
     "output_type": "stream",
     "text": [
      "set()\n"
     ]
    }
   ],
   "source": [
    "#Removes all elements.\n",
    "s = {1, 2}\n",
    "s.clear()\n",
    "print(s)"
   ]
  },
  {
   "cell_type": "code",
   "execution_count": 10,
   "id": "c0a16a87-99b4-4be1-994f-f349d7b5f320",
   "metadata": {},
   "outputs": [
    {
     "name": "stdout",
     "output_type": "stream",
     "text": [
      "{1, 2, 3}\n"
     ]
    }
   ],
   "source": [
    "#Combines two sets no duplicates.\n",
    "a = {1, 2}\n",
    "b = {2, 3}\n",
    "print(a.union(b)) "
   ]
  },
  {
   "cell_type": "code",
   "execution_count": 11,
   "id": "2a7a5a9b-6970-4ca7-8e8f-86672ccdfa0c",
   "metadata": {},
   "outputs": [
    {
     "name": "stdout",
     "output_type": "stream",
     "text": [
      "{2, 3}\n"
     ]
    }
   ],
   "source": [
    "#Common elements.\n",
    "a = {1, 2, 3}\n",
    "b = {2, 3, 4}\n",
    "print(a.intersection(b))"
   ]
  },
  {
   "cell_type": "code",
   "execution_count": 12,
   "id": "2d7a5108-a1f0-4e1e-9473-79fead79e0d3",
   "metadata": {},
   "outputs": [
    {
     "name": "stdout",
     "output_type": "stream",
     "text": [
      "{1, 3}\n"
     ]
    }
   ],
   "source": [
    "#Items in first set but not in second.\n",
    "a = {1, 2, 3}\n",
    "b = {2, 4}\n",
    "print(a.difference(b))"
   ]
  },
  {
   "cell_type": "code",
   "execution_count": 13,
   "id": "636d0914-cfee-4468-aad3-d36939d8552f",
   "metadata": {},
   "outputs": [
    {
     "name": "stdout",
     "output_type": "stream",
     "text": [
      "True\n",
      "True\n"
     ]
    }
   ],
   "source": [
    "#Check subset or superset.\n",
    "a = {1, 2}\n",
    "b = {1, 2, 3}\n",
    "print(a.issubset(b))  \n",
    "print(b.issuperset(a))"
   ]
  },
  {
   "cell_type": "code",
   "execution_count": null,
   "id": "3e8c57b1-eac9-44c7-8f0c-cf1ef531beef",
   "metadata": {},
   "outputs": [],
   "source": []
  }
 ],
 "metadata": {
  "kernelspec": {
   "display_name": "Python 3 (ipykernel)",
   "language": "python",
   "name": "python3"
  },
  "language_info": {
   "codemirror_mode": {
    "name": "ipython",
    "version": 3
   },
   "file_extension": ".py",
   "mimetype": "text/x-python",
   "name": "python",
   "nbconvert_exporter": "python",
   "pygments_lexer": "ipython3",
   "version": "3.13.5"
  }
 },
 "nbformat": 4,
 "nbformat_minor": 5
}
