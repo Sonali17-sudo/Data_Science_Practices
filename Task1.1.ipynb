{
 "cells": [
  {
   "cell_type": "markdown",
   "id": "32076723-7652-47e5-bf2a-02e4c43dec2b",
   "metadata": {},
   "source": [
    "# Name:- Sonali Ganesh Magar\n",
    "# Class:- IF5K\n",
    "# Task:- Homework1"
   ]
  },
  {
   "cell_type": "code",
   "execution_count": 34,
   "id": "80c43df4-7db8-43ba-97d1-32f5dfea6b9c",
   "metadata": {},
   "outputs": [],
   "source": [
    "#opening file in the read mode\n",
    "f = open(\"data.txt\", \"r\")"
   ]
  },
  {
   "cell_type": "code",
   "execution_count": 35,
   "id": "2455c00c-3ee4-412c-82b4-dd2de2e6a44e",
   "metadata": {},
   "outputs": [
    {
     "name": "stdout",
     "output_type": "stream",
     "text": [
      "Hello,I am Sonali...!!\n",
      "How are you??\n",
      "1234567\n"
     ]
    }
   ],
   "source": [
    "#reading the file\n",
    "f = open(\"data.txt\", \"r\")\n",
    "print(f.read())      \n",
    "f.close()"
   ]
  },
  {
   "cell_type": "code",
   "execution_count": 36,
   "id": "422f2e49-8e18-47ed-a169-874c1411bf04",
   "metadata": {},
   "outputs": [
    {
     "name": "stdout",
     "output_type": "stream",
     "text": [
      "Hello\n"
     ]
    }
   ],
   "source": [
    "#Read specific number of characters\n",
    "f = open(\"data.txt\", \"r\")\n",
    "print(f.read(5))  \n",
    "f.close()"
   ]
  },
  {
   "cell_type": "code",
   "execution_count": 37,
   "id": "dcb400d6-c914-4735-b5af-cae730185c7b",
   "metadata": {},
   "outputs": [
    {
     "name": "stdout",
     "output_type": "stream",
     "text": [
      "Hello,I am Sonali...!!\n",
      "\n",
      "How are you??\n",
      "\n"
     ]
    }
   ],
   "source": [
    "#Reading line by line\n",
    "f = open(\"data.txt\", \"r\")\n",
    "print(f.readline()) \n",
    "print(f.readline()) \n",
    "f.close()"
   ]
  },
  {
   "cell_type": "code",
   "execution_count": 38,
   "id": "4e29c034-cc55-491d-9691-976c71457ee8",
   "metadata": {},
   "outputs": [
    {
     "name": "stdout",
     "output_type": "stream",
     "text": [
      "['Hello,I am Sonali...!!\\n', 'How are you??\\n', '1234567']\n"
     ]
    }
   ],
   "source": [
    "#Reading all lines as list\n",
    "f = open(\"data.txt\", \"r\")\n",
    "lines = f.readlines()\n",
    "print(lines)\n",
    "f.close()"
   ]
  },
  {
   "cell_type": "code",
   "execution_count": 39,
   "id": "a8d8390b-a0a3-4a2d-8128-4c19cc0ac5a9",
   "metadata": {},
   "outputs": [],
   "source": [
    "#Writing new content in the file\n",
    "f = open(\"data.txt\", \"w\")\n",
    "f.write(\"Hiii\\nI am learning python\")\n",
    "f.close()"
   ]
  },
  {
   "cell_type": "code",
   "execution_count": 40,
   "id": "2f154226-0f26-4426-bc98-e0a81e9ec10c",
   "metadata": {},
   "outputs": [
    {
     "name": "stdout",
     "output_type": "stream",
     "text": [
      "Hiii\n",
      "I am learning python\n"
     ]
    }
   ],
   "source": [
    "f = open(\"data.txt\", \"r\")\n",
    "print(f.read())      \n",
    "f.close()"
   ]
  },
  {
   "cell_type": "code",
   "execution_count": 42,
   "id": "f71102cb-8ea8-409e-9346-d005420a356a",
   "metadata": {},
   "outputs": [],
   "source": [
    "#Appending content to the file\n",
    "f = open(\"data.txt\", \"a\")\n",
    "f.write(\"\\nAppended line\")\n",
    "f.close()"
   ]
  },
  {
   "cell_type": "code",
   "execution_count": 43,
   "id": "a0adffae-c0a7-482b-9656-b98310d01422",
   "metadata": {},
   "outputs": [
    {
     "name": "stdout",
     "output_type": "stream",
     "text": [
      "Hiii\n",
      "I am learning python\n",
      "Appended line\n"
     ]
    }
   ],
   "source": [
    "f = open(\"data.txt\", \"r\")\n",
    "print(f.read())      \n",
    "f.close()"
   ]
  },
  {
   "cell_type": "code",
   "execution_count": 32,
   "id": "dcdabd67-2fb5-4d24-a2aa-930cef35466c",
   "metadata": {},
   "outputs": [],
   "source": [
    "#Write multiple lines using writelines()\n",
    "f = open(\"data.txt\", \"w\")\n",
    "f.writelines([\"Line1\\n\", \"Line2\\n\", \"Line3\\n\"])\n",
    "f.close()"
   ]
  },
  {
   "cell_type": "code",
   "execution_count": 33,
   "id": "a27b452b-93d4-499a-b2cc-a46e47824afd",
   "metadata": {},
   "outputs": [
    {
     "name": "stdout",
     "output_type": "stream",
     "text": [
      "Line1\n",
      "Line2\n",
      "Line3\n",
      "\n"
     ]
    }
   ],
   "source": [
    "#reading the file\n",
    "f = open(\"data.txt\", \"r\")\n",
    "print(f.read())      \n",
    "f.close()"
   ]
  },
  {
   "cell_type": "code",
   "execution_count": null,
   "id": "d6014d7f-1602-4f09-83bb-34f34f38514a",
   "metadata": {},
   "outputs": [],
   "source": []
  }
 ],
 "metadata": {
  "kernelspec": {
   "display_name": "Python 3 (ipykernel)",
   "language": "python",
   "name": "python3"
  },
  "language_info": {
   "codemirror_mode": {
    "name": "ipython",
    "version": 3
   },
   "file_extension": ".py",
   "mimetype": "text/x-python",
   "name": "python",
   "nbconvert_exporter": "python",
   "pygments_lexer": "ipython3",
   "version": "3.13.5"
  }
 },
 "nbformat": 4,
 "nbformat_minor": 5
}
